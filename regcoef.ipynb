{
 "cells": [
  {
   "cell_type": "code",
   "execution_count": 2,
   "metadata": {},
   "outputs": [],
   "source": [
    "import pandas as pd \n",
    "import numpy as np\n",
    "import matplotlib.pyplot as plt\n",
    "\n",
    "from sklearn.preprocessing import StandardScaler  # 标准化\n",
    "from sklearn.model_selection import train_test_split  # 划分测试集与训练集\n",
    "from sklearn.linear_model import LinearRegression as LR  # 回归模块\n",
    "\n",
    "# 在ipython中直接显示图像\n",
    "%matplotlib inline\n",
    "\n",
    "# 设置绘图显示中文字体\n",
    "plt.rcParams['font.sans-serif'] = ['Microsoft YaHei']"
   ]
  },
  {
   "cell_type": "code",
   "execution_count": 22,
   "metadata": {},
   "outputs": [],
   "source": [
    "input_file_path = '房产信息_预处理.xlsx'\n",
    "data = pd.read_excel(input_file_path)"
   ]
  },
  {
   "cell_type": "code",
   "execution_count": 23,
   "metadata": {},
   "outputs": [
    {
     "data": {
      "text/plain": [
       "Index(['描述', '位置信息', '区域', '总价', '单价', '面积', '建成时间', '关注人数', '0室0厅', '0室1厅',\n",
       "       '1室0厅', '1室1厅', '1室2厅', '2室0厅', '2室1厅', '2室2厅', '3室0厅', '3室1厅', '3室2厅',\n",
       "       '3室3厅', '3室4厅', '4室0厅', '4室1厅', '4室2厅', '4室3厅', '4室4厅', '5室0厅', '5室1厅',\n",
       "       '5室2厅', '5室3厅', '5室4厅', '6室1厅', '6室2厅', '6室3厅', '6室4厅', '7室1厅', '7室2厅',\n",
       "       '7室3厅', '7室4厅', '7室5厅', '8室2厅', '8室3厅', '9室2厅', '双流', '大邑', '天府新区',\n",
       "       '天府新区南区', '崇州', '彭州', '成华', '新津', '新都', '武侯', '温江', '简阳', '蒲江', '郫都',\n",
       "       '都江堰', '金堂', '金牛', '锦江', '青白江', '青羊', '高新', '高新西', '龙泉驿', '毛坯', '简装',\n",
       "       '精装', '塔楼', '平房', '板塔结合', '板楼', '东', '南', '西', '北', '东北', '东南', '西南',\n",
       "       '西北', '中楼层', '低楼层', '高楼层', '总楼层'],\n",
       "      dtype='object')"
      ]
     },
     "execution_count": 23,
     "metadata": {},
     "output_type": "execute_result"
    }
   ],
   "source": [
    "data.columns"
   ]
  },
  {
   "cell_type": "code",
   "execution_count": 5,
   "metadata": {},
   "outputs": [],
   "source": [
    "# 特征提取\n",
    "total_price = data.总价\n",
    "unit_price = data.单价\n",
    "house_area = data.面积\n",
    "house_type = data[['0室1厅','1室0厅', '1室1厅', '1室2厅', '2室0厅', '2室1厅', \\\n",
    "                   '2室2厅', '3室0厅', '3室1厅', '3室2厅','3室3厅', '3室4厅', \\\n",
    "                   '4室0厅', '4室1厅', '4室2厅', '4室3厅', '4室4厅', '5室0厅',\\\n",
    "                   '5室1厅','5室2厅', '5室3厅', '5室4厅', '6室1厅', '6室2厅', \\\n",
    "                   '6室3厅', '6室4厅', '7室1厅', '7室2厅','7室3厅', '7室4厅', \\\n",
    "                   '7室5厅', '8室2厅', '8室3厅', '9室2厅']]\n",
    "region = data[['双流', '大邑', '天府新区','天府新区南区', '崇州', '彭州', '成华', \\\n",
    "               '新津', '新都', '武侯', '温江', '简阳', '蒲江', '郫都','都江堰',   \\\n",
    "               '金堂', '金牛', '锦江', '青白江', '青羊', '高新']]\n",
    "house_class = data[['塔楼', '平房', '板塔结合', '板楼']]\n",
    "house_dirt = data[['东', '南', '西', '北', '东北', '东南', '西南','西北']]\n",
    "house_layer = data[['中楼层', '低楼层', '高楼层']]\n",
    "total_layer = data.总楼层"
   ]
  },
  {
   "cell_type": "code",
   "execution_count": 6,
   "metadata": {},
   "outputs": [],
   "source": [
    "# 单变量回归\n",
    "X = pd.concat([house_area, house_type, region, house_class, house_dirt, \\\n",
    "               house_layer, total_layer], axis=1)\n",
    "Y = unit_price"
   ]
  },
  {
   "cell_type": "code",
   "execution_count": 15,
   "metadata": {},
   "outputs": [
    {
     "data": {
      "text/html": [
       "<div>\n",
       "<style scoped>\n",
       "    .dataframe tbody tr th:only-of-type {\n",
       "        vertical-align: middle;\n",
       "    }\n",
       "\n",
       "    .dataframe tbody tr th {\n",
       "        vertical-align: top;\n",
       "    }\n",
       "\n",
       "    .dataframe thead th {\n",
       "        text-align: right;\n",
       "    }\n",
       "</style>\n",
       "<table border=\"1\" class=\"dataframe\">\n",
       "  <thead>\n",
       "    <tr style=\"text-align: right;\">\n",
       "      <th></th>\n",
       "      <th>面积</th>\n",
       "      <th>0室1厅</th>\n",
       "      <th>1室0厅</th>\n",
       "      <th>1室1厅</th>\n",
       "      <th>1室2厅</th>\n",
       "      <th>2室0厅</th>\n",
       "      <th>2室1厅</th>\n",
       "      <th>2室2厅</th>\n",
       "      <th>3室0厅</th>\n",
       "      <th>3室1厅</th>\n",
       "      <th>...</th>\n",
       "      <th>西</th>\n",
       "      <th>北</th>\n",
       "      <th>东北</th>\n",
       "      <th>东南</th>\n",
       "      <th>西南</th>\n",
       "      <th>西北</th>\n",
       "      <th>中楼层</th>\n",
       "      <th>低楼层</th>\n",
       "      <th>高楼层</th>\n",
       "      <th>总楼层</th>\n",
       "    </tr>\n",
       "  </thead>\n",
       "  <tbody>\n",
       "    <tr>\n",
       "      <th>9428</th>\n",
       "      <td>128.80</td>\n",
       "      <td>0</td>\n",
       "      <td>0</td>\n",
       "      <td>0</td>\n",
       "      <td>0</td>\n",
       "      <td>0</td>\n",
       "      <td>0</td>\n",
       "      <td>0</td>\n",
       "      <td>0</td>\n",
       "      <td>0</td>\n",
       "      <td>...</td>\n",
       "      <td>0</td>\n",
       "      <td>0</td>\n",
       "      <td>0</td>\n",
       "      <td>1</td>\n",
       "      <td>0</td>\n",
       "      <td>0</td>\n",
       "      <td>0</td>\n",
       "      <td>0</td>\n",
       "      <td>1</td>\n",
       "      <td>18</td>\n",
       "    </tr>\n",
       "    <tr>\n",
       "      <th>19018</th>\n",
       "      <td>79.00</td>\n",
       "      <td>0</td>\n",
       "      <td>0</td>\n",
       "      <td>0</td>\n",
       "      <td>0</td>\n",
       "      <td>0</td>\n",
       "      <td>1</td>\n",
       "      <td>0</td>\n",
       "      <td>0</td>\n",
       "      <td>0</td>\n",
       "      <td>...</td>\n",
       "      <td>0</td>\n",
       "      <td>0</td>\n",
       "      <td>0</td>\n",
       "      <td>1</td>\n",
       "      <td>0</td>\n",
       "      <td>0</td>\n",
       "      <td>1</td>\n",
       "      <td>0</td>\n",
       "      <td>0</td>\n",
       "      <td>6</td>\n",
       "    </tr>\n",
       "    <tr>\n",
       "      <th>10968</th>\n",
       "      <td>96.54</td>\n",
       "      <td>0</td>\n",
       "      <td>0</td>\n",
       "      <td>0</td>\n",
       "      <td>0</td>\n",
       "      <td>0</td>\n",
       "      <td>0</td>\n",
       "      <td>0</td>\n",
       "      <td>0</td>\n",
       "      <td>0</td>\n",
       "      <td>...</td>\n",
       "      <td>0</td>\n",
       "      <td>0</td>\n",
       "      <td>0</td>\n",
       "      <td>1</td>\n",
       "      <td>0</td>\n",
       "      <td>0</td>\n",
       "      <td>0</td>\n",
       "      <td>0</td>\n",
       "      <td>1</td>\n",
       "      <td>7</td>\n",
       "    </tr>\n",
       "    <tr>\n",
       "      <th>18072</th>\n",
       "      <td>126.00</td>\n",
       "      <td>0</td>\n",
       "      <td>0</td>\n",
       "      <td>0</td>\n",
       "      <td>0</td>\n",
       "      <td>0</td>\n",
       "      <td>0</td>\n",
       "      <td>0</td>\n",
       "      <td>0</td>\n",
       "      <td>0</td>\n",
       "      <td>...</td>\n",
       "      <td>0</td>\n",
       "      <td>0</td>\n",
       "      <td>0</td>\n",
       "      <td>0</td>\n",
       "      <td>0</td>\n",
       "      <td>0</td>\n",
       "      <td>0</td>\n",
       "      <td>0</td>\n",
       "      <td>1</td>\n",
       "      <td>7</td>\n",
       "    </tr>\n",
       "    <tr>\n",
       "      <th>25119</th>\n",
       "      <td>93.58</td>\n",
       "      <td>0</td>\n",
       "      <td>0</td>\n",
       "      <td>0</td>\n",
       "      <td>0</td>\n",
       "      <td>0</td>\n",
       "      <td>0</td>\n",
       "      <td>0</td>\n",
       "      <td>0</td>\n",
       "      <td>1</td>\n",
       "      <td>...</td>\n",
       "      <td>0</td>\n",
       "      <td>0</td>\n",
       "      <td>0</td>\n",
       "      <td>0</td>\n",
       "      <td>0</td>\n",
       "      <td>0</td>\n",
       "      <td>1</td>\n",
       "      <td>0</td>\n",
       "      <td>0</td>\n",
       "      <td>7</td>\n",
       "    </tr>\n",
       "  </tbody>\n",
       "</table>\n",
       "<p>5 rows × 72 columns</p>\n",
       "</div>"
      ],
      "text/plain": [
       "           面积  0室1厅  1室0厅  1室1厅  1室2厅  2室0厅  2室1厅  2室2厅  3室0厅  3室1厅  ...  西  \\\n",
       "9428   128.80     0     0     0     0     0     0     0     0     0  ...  0   \n",
       "19018   79.00     0     0     0     0     0     1     0     0     0  ...  0   \n",
       "10968   96.54     0     0     0     0     0     0     0     0     0  ...  0   \n",
       "18072  126.00     0     0     0     0     0     0     0     0     0  ...  0   \n",
       "25119   93.58     0     0     0     0     0     0     0     0     1  ...  0   \n",
       "\n",
       "       北  东北  东南  西南  西北  中楼层  低楼层  高楼层  总楼层  \n",
       "9428   0   0   1   0   0    0    0    1   18  \n",
       "19018  0   0   1   0   0    1    0    0    6  \n",
       "10968  0   0   1   0   0    0    0    1    7  \n",
       "18072  0   0   0   0   0    0    0    1    7  \n",
       "25119  0   0   0   0   0    1    0    0    7  \n",
       "\n",
       "[5 rows x 72 columns]"
      ]
     },
     "metadata": {},
     "output_type": "display_data"
    },
    {
     "data": {
      "text/plain": [
       "9428     1.26\n",
       "19018    1.76\n",
       "10968    1.09\n",
       "18072    0.95\n",
       "25119    1.38\n",
       "Name: 单价, dtype: float64"
      ]
     },
     "metadata": {},
     "output_type": "display_data"
    }
   ],
   "source": [
    "# 设置训练集与测试集\n",
    "Xtrain, Xtest, Ytrain, Ytest = train_test_split(X,Y,\n",
    "                        test_size=0.2, random_state=420)\n",
    "display(Xtest.head())\n",
    "display(Ytest.head())"
   ]
  },
  {
   "cell_type": "code",
   "execution_count": 10,
   "metadata": {
    "scrolled": false
   },
   "outputs": [
    {
     "name": "stdout",
     "output_type": "stream",
     "text": [
      "0        (面积, 0.0011125764634655644)\n",
      "1     (0室1厅, 1.4727802311043092e-14)\n",
      "2        (1室0厅, 0.32529050222708866)\n",
      "3          (1室1厅, 0.513283884040626)\n",
      "4          (1室2厅, 0.589636663592678)\n",
      "                   ...              \n",
      "67       (西北, -0.007954603846578139)\n",
      "68    (中楼层, -6.0801559900458546e-05)\n",
      "69         (低楼层, 0.0250406642783233)\n",
      "70       (高楼层, -0.02497986271840935)\n",
      "71        (总楼层, 0.01638329480039885)\n",
      "Length: 72, dtype: object\n",
      "截距 = 0.223569\n"
     ]
    }
   ],
   "source": [
    "# 线性回归\n",
    "reg = LR().fit(Xtrain, Ytrain)\n",
    "# 预测\n",
    "yhat = reg.predict(Xtest)\n",
    "# 查看回归系数\n",
    "print(pd.Series(list(zip(X.columns, reg.coef_))))\n",
    "# 查看截距\n",
    "print(\"截距 = %f\"%reg.intercept_)"
   ]
  },
  {
   "cell_type": "code",
   "execution_count": 11,
   "metadata": {},
   "outputs": [
    {
     "data": {
      "text/plain": [
       "<matplotlib.legend.Legend at 0x21075d65c10>"
      ]
     },
     "execution_count": 11,
     "metadata": {},
     "output_type": "execute_result"
    },
    {
     "data": {
      "image/png": "[encoded data removed]",
      "text/plain": [
       "<Figure size 432x288 with 1 Axes>"
      ]
     },
     "metadata": {
      "needs_background": "light"
     },
     "output_type": "display_data"
    }
   ],
   "source": [
    "# 绘制前n条记录\n",
    "n = 50\n",
    "# 绘制模型估计值\n",
    "plt.plot(range(len(yhat[:n])),yhat[:n])\n",
    "# 绘制模型实际值\n",
    "plt.plot(range(len(Ytest[:n])),Ytest[:n])\n",
    "\n",
    "# 图形设置\n",
    "plt.xlabel('个例')\n",
    "plt.ylabel('单价')\n",
    "plt.title('线性回归预测结果')\n",
    "plt.legend([\"预估\",\"实际\"])"
   ]
  },
  {
   "cell_type": "code",
   "execution_count": 21,
   "metadata": {},
   "outputs": [
    {
     "name": "stdout",
     "output_type": "stream",
     "text": [
      "n = 6555, k = 72\n",
      "MSE : 0.17934182585989458\n",
      "MAE : 0.30161214689251603\n",
      "R2 : 0.5455564705110019\n",
      "调整R2 ：0.5405086559285879\n",
      "0.5433315520147274\n"
     ]
    }
   ],
   "source": [
    "# 用于检验模型效果\n",
    "from sklearn.metrics import mean_squared_error  # MSE\n",
    "from sklearn.metrics import mean_absolute_error  # MAE\n",
    "from sklearn.metrics import r2_score  # R2\n",
    "\n",
    "mse = mean_squared_error(Ytest, yhat)  # MSE\n",
    "mae = mean_absolute_error(Ytest, yhat)  # MAE\n",
    "r2 = r2_score(Ytest, yhat)  # R2\n",
    "# 调整R2\n",
    "n = Xtest.shape[0]\n",
    "k = Xtest.shape[1]\n",
    "print(\"n = %d, k = %d\"%(n,k))\n",
    "adj_r2 = 1-(1-r2)*((n-1)/(n-k-1))\n",
    "\n",
    "print('MSE : ' + str(mse))\n",
    "print('MAE : ' + str(mae))\n",
    "print('R2 : ' + str(r2))\n",
    "print('调整R2 ：' + str(adj_r2))\n",
    "print(reg.score(Xtrain,Ytrain))"
   ]
  },
  {
   "cell_type": "code",
   "execution_count": null,
   "metadata": {},
   "outputs": [],
   "source": []
  }
 ],
 "metadata": {
  "kernelspec": {
   "display_name": "Python 3",
   "language": "python",
   "name": "python3"
  },
  "language_info": {
   "codemirror_mode": {
    "name": "ipython",
    "version": 3
   },
   "file_extension": ".py",
   "mimetype": "text/x-python",
   "name": "python",
   "nbconvert_exporter": "python",
   "pygments_lexer": "ipython3",
   "version": "3.8.3"
  }
 },
 "nbformat": 4,
 "nbformat_minor": 4
}
